{
 "cells": [
  {
   "cell_type": "code",
   "execution_count": 63,
   "metadata": {},
   "outputs": [],
   "source": [
    "import numpy as np\n",
    "import matplotlib.pyplot as plt\n",
    "import pandas as pd \n",
    "import itertools\n",
    "from random import random\n",
    "from random import seed\n",
    "from random import randrange\n",
    "from csv import reader\n",
    "from math import sqrt,exp,pi\n",
    "from sklearn.metrics import f1_score\n",
    "from sklearn.metrics import confusion_matrix\n",
    "import seaborn as sn"
   ]
  },
  {
   "cell_type": "code",
   "execution_count": 64,
   "metadata": {},
   "outputs": [],
   "source": [
    "def val_minmax(dataset):\n",
    "    minimum_maximum=[]\n",
    "    for i in range(len(dataset[0])):\n",
    "        column_values=[row[i] for row in dataset]\n",
    "        minval=min(column_values)\n",
    "        maxval = max(column_values)\n",
    "        minimum_maximum.append([minval,maxval])\n",
    "    return minimum_maximum\n"
   ]
  },
  {
   "cell_type": "code",
   "execution_count": 65,
   "metadata": {},
   "outputs": [],
   "source": [
    "def cross_val_split(dataset,n_folds):\n",
    "    split_dataset=[]\n",
    "    copy_dataset=list(dataset)\n",
    "    fold_size=int(len(dataset)/n_folds)\n",
    "    for _ in range(n_folds):\n",
    "        fold=[]\n",
    "        while len(fold)<fold_size:\n",
    "            index=randrange(len(copy_dataset))\n",
    "            fold.append(copy_dataset.pop(index))\n",
    "        split_dataset.append(fold)\n",
    "    return split_dataset"
   ]
  },
  {
   "cell_type": "code",
   "execution_count": 66,
   "metadata": {},
   "outputs": [],
   "source": [
    "\n",
    "def norm_dataset(dataset,minmax):\n",
    "    for line in dataset:\n",
    "        for i in range(len(line)):\n",
    "            line[i]=(line[i]-minmax[i][0])/(minmax[i][1] -minmax[i][0])"
   ]
  },
  {
   "cell_type": "code",
   "execution_count": 67,
   "metadata": {},
   "outputs": [],
   "source": [
    "#KNN Algo\n",
    "\n",
    "def knn(train,test,num_neighbors):\n",
    "    predictions=[]\n",
    "    for test_row in test:\n",
    "        distances=[]\n",
    "        for train_row in train:\n",
    "            I_dist=0.0\n",
    "            for i in range(len(test_row)-1):\n",
    "                I_dist +=(test_row[i]-train_row[i])**2\n",
    "            dist=sqrt(I_dist)\n",
    "            distances.append((train_row,dist))\n",
    "            distances.sort(key=lambda tup:tup[1])\n",
    "        neighbors_list=[]\n",
    "        for i in range(num_neighbors):\n",
    "            neighbors_list.append(distances[i][0])\n",
    "        neighbors=neighbors_list\n",
    "        output_values=[row[-1] for row in neighbors]\n",
    "        prediction=max(set(output_values),key=output_values.count)\n",
    "        out_val=prediction\n",
    "        \n",
    "        predictions.append(out_val)\n",
    "    return(predictions)\n"
   ]
  },
  {
   "cell_type": "code",
   "execution_count": 68,
   "metadata": {},
   "outputs": [],
   "source": [
    "#LR Algo\n",
    "\n",
    "def logistic_regression(train,test,l_rate,n_epoch):\n",
    "    predictions=[]\n",
    "    coef1=[0.0 for i in range(len(train[0]))]\n",
    "    for epoch in range(n_epoch):\n",
    "        for row in train:\n",
    "            out1=coef1[0]\n",
    "            for i in range(len(row)-1):\n",
    "                out1 +=coef1[i+1]*row[i]\n",
    "            out =1.0/(1.0 +exp(-out1))\n",
    "            error=row[-1]-out\n",
    "            coef1[0]=coef1[0]+l_rate *error*out*(1.0 - out )\n",
    "            for i in range(len(row)-1):\n",
    "                coef1[i + 1] = coef1[i + 1] + l_rate * error * out * (1.0 - out) * row[i]\n",
    "    coef=coef1\n",
    "    for row in test:\n",
    "        out1=coef1[0]\n",
    "        for i in range(len(row)-1):\n",
    "            out1+=coef1[i+1]*row[i]\n",
    "        out =1.0 /(1.0+exp(-out1))\n",
    "        out=round(out)\n",
    "        predictions.append(out)\n",
    "    return(predictions)\n",
    "        "
   ]
  },
  {
   "cell_type": "code",
   "execution_count": 69,
   "metadata": {},
   "outputs": [],
   "source": [
    "def cal_accuracy_metric(actual_val, pred_val):\n",
    "    right = 0\n",
    "    for i in range(len(actual_val)):\n",
    "        if actual_val[i] == pred_val[i]:\n",
    "            right = right + 1\n",
    "    res = right / float(len(actual_val)) * 100.0\n",
    "    return res "
   ]
  },
  {
   "cell_type": "code",
   "execution_count": 70,
   "metadata": {},
   "outputs": [],
   "source": [
    "\n",
    "\n",
    "\n",
    "\n",
    "def eval_algo(dataset, algorithm, n_folds, *args):\n",
    "    folds = cross_val_split(dataset, n_folds)\n",
    "    scores = []\n",
    "    f1_scores = []\n",
    "    for fold in folds:\n",
    "        train_dataset = list(folds)\n",
    "        train_dataset.remove(fold)\n",
    "        train_dataset = sum(train_dataset, [])\n",
    "        test_dataset = list()\n",
    "        for line in fold:\n",
    "            line_copy = list(line)\n",
    "            test_dataset.append(line_copy)\n",
    "            line_copy[-1] = None\n",
    "        pred_val = algorithm(train_dataset, test_dataset, *args)\n",
    "        actual_val = [row[-1] for row in fold]\n",
    "        conf_matrix = confusion_matrix(actual_val, pred_val)\n",
    "        f1 = f1_score(actual_val, pred_val, average='macro')\n",
    "        f1_scores.append(f1 * 100.0)\n",
    "        accuracy = cal_accuracy_metric(actual_val, pred_val)\n",
    "        scores.append(accuracy)\n",
    "    return scores,f1_scores,conf_matrix"
   ]
  },
  {
   "cell_type": "code",
   "execution_count": 71,
   "metadata": {},
   "outputs": [],
   "source": [
    "df = pd.read_csv('breast-cancer.data',header=None)\n",
    "df = df[~df[6].isin(['?'])]\n",
    "df = df.astype(float)\n",
    "df.iloc[:,10].replace(2, 0,inplace=True)\n",
    "df.iloc[:,10].replace(4, 1,inplace=True)\n",
    "df = df.drop(columns = 0,axis = 1)\n",
    "dataset = df.values.tolist()\n",
    "minmax = val_minmax(dataset)\n",
    "norm_dataset(dataset,minmax)\n",
    "#print(dataset)"
   ]
  },
  {
   "cell_type": "code",
   "execution_count": null,
   "metadata": {},
   "outputs": [],
   "source": [
    "#KNN ACCURACY\n",
    "\n",
    "\n",
    "n_folds = 6\n",
    "num_neighbors = 100\n",
    "scores1,f1_scores1,conf_matrix1 = eval_algo(dataset, knn, n_folds, num_neighbors)\n",
    "print('Scores: %s' % scores1)\n",
    "print('Mean Accuracy: %.3f%%' % (sum(scores1)/float(len(scores1))))\n"
   ]
  },
  {
   "cell_type": "code",
   "execution_count": 45,
   "metadata": {},
   "outputs": [
    {
     "name": "stdout",
     "output_type": "stream",
     "text": [
      "f1_scores: [94.25813008130082, 95.43212870886894, 96.81779780343565, 97.77734067663258, 94.12681912681913, 93.01545253863135]\n",
      "F1 Scores: 95.238%\n"
     ]
    }
   ],
   "source": [
    "#KNN F1 SCORES\n",
    "\n",
    "print('f1_scores: %s' % f1_scores1)\n",
    "print('F1 Scores: %.3f%%' % (sum(f1_scores1)/float(len(f1_scores1))))"
   ]
  },
  {
   "cell_type": "code",
   "execution_count": 46,
   "metadata": {},
   "outputs": [
    {
     "name": "stdout",
     "output_type": "stream",
     "text": [
      "[[72  0]\n",
      " [ 7 34]]\n"
     ]
    }
   ],
   "source": [
    "#KNN Confusion Matrix\n",
    "print(conf_matrix1)"
   ]
  },
  {
   "cell_type": "code",
   "execution_count": 58,
   "metadata": {},
   "outputs": [
    {
     "name": "stdout",
     "output_type": "stream",
     "text": [
      "Scores: [97.34513274336283, 99.11504424778761, 98.23008849557522, 93.80530973451327, 97.34513274336283, 97.34513274336283]\n",
      "Mean Accuracy: 97.198%\n"
     ]
    }
   ],
   "source": [
    "#LR ACCURACY\n",
    "\n",
    "n_folds = 6\n",
    "l_rate = 0.1\n",
    "n_epoch = 100\n",
    "scores2,f1_scores2,conf_matrix2 = eval_algo(dataset, logistic_regression, n_folds, l_rate, n_epoch)\n",
    "print('Scores: %s' % scores2)\n",
    "print('Mean Accuracy: %.3f%%' % (sum(scores2)/float(len(scores2))))"
   ]
  },
  {
   "cell_type": "code",
   "execution_count": 59,
   "metadata": {},
   "outputs": [
    {
     "name": "stdout",
     "output_type": "stream",
     "text": [
      "f1_scores: [96.87067294378289, 99.03788846317582, 98.01754385964911, 93.67857428274596, 97.08085765951951, 97.00662251655629]\n",
      "F1 Scores: 96.949%\n"
     ]
    }
   ],
   "source": [
    "#LR F1 SCORES\n",
    "\n",
    "print('f1_scores: %s' % f1_scores2)\n",
    "print('F1 Scores: %.3f%%' % (sum(f1_scores2)/float(len(f1_scores2))))\n"
   ]
  },
  {
   "cell_type": "code",
   "execution_count": 60,
   "metadata": {},
   "outputs": [
    {
     "name": "stdout",
     "output_type": "stream",
     "text": [
      "[[74  3]\n",
      " [ 0 36]]\n"
     ]
    }
   ],
   "source": [
    "#LR Confusion Matrix\n",
    "print(conf_matrix2)\n"
   ]
  },
  {
   "cell_type": "code",
   "execution_count": 61,
   "metadata": {},
   "outputs": [
    {
     "data": {
      "image/png": "[encoded data removed]",
      "text/plain": [
       "<Figure size 432x288 with 1 Axes>"
      ]
     },
     "metadata": {
      "needs_background": "light"
     },
     "output_type": "display_data"
    }
   ],
   "source": [
    "k = [1,2,3,4,5,6]\n",
    "plt.plot(k,f1_scores1,color='g')\n",
    "plt.plot(k,f1_scores2,color='orange')\n",
    "plt.xlabel('k')\n",
    "plt.ylabel('f1_scores')\n",
    "plt.title('f1_scores of knn and lr')\n",
    "plt.show()"
   ]
  },
  {
   "cell_type": "code",
   "execution_count": 62,
   "metadata": {},
   "outputs": [
    {
     "data": {
      "image/png": "[encoded data removed]",
      "text/plain": [
       "<Figure size 432x288 with 1 Axes>"
      ]
     },
     "metadata": {
      "needs_background": "light"
     },
     "output_type": "display_data"
    }
   ],
   "source": [
    "k = [1,2,3,4,5,6]\n",
    "plt.plot(k,scores1,color='g')\n",
    "plt.plot(k,scores2,color='orange')\n",
    "plt.xlabel('k')\n",
    "plt.ylabel('accuaracy')\n",
    "plt.title('accuracy of knn and lr')\n",
    "plt.show()"
   ]
  },
  {
   "cell_type": "code",
   "execution_count": null,
   "metadata": {},
   "outputs": [],
   "source": []
  }
 ],
 "metadata": {
  "kernelspec": {
   "display_name": "Python 3",
   "language": "python",
   "name": "python3"
  },
  "language_info": {
   "codemirror_mode": {
    "name": "ipython",
    "version": 3
   },
   "file_extension": ".py",
   "mimetype": "text/x-python",
   "name": "python",
   "nbconvert_exporter": "python",
   "pygments_lexer": "ipython3",
   "version": "3.7.4"
  }
 },
 "nbformat": 4,
 "nbformat_minor": 2
}
